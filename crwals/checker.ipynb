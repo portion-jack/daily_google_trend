{
 "cells": [
  {
   "cell_type": "code",
   "execution_count": 5,
   "outputs": [
    {
     "name": "stdout",
     "output_type": "stream",
     "text": [
      "The request took 0.7882969379425049s to complete.\n"
     ]
    }
   ],
   "source": [
    "import numpy as np\n",
    "from crwals.daily_trend import *\n",
    "\n",
    "import csv\n",
    "today_trends=np.array(trends_retriever())\n",
    "\n",
    "f = open('result.csv','a', newline='')\n",
    "wr = csv.writer(f)\n",
    "for i in range(len(today_trends)):\n",
    "    wr.writerow(today_trends[i])\n",
    "f.close()"
   ],
   "metadata": {
    "collapsed": false,
    "pycharm": {
     "name": "#%%\n"
    }
   }
  },
  {
   "cell_type": "code",
   "execution_count": null,
   "outputs": [],
   "source": [],
   "metadata": {
    "collapsed": false,
    "pycharm": {
     "name": "#%%\n"
    }
   }
  }
 ],
 "metadata": {
  "kernelspec": {
   "display_name": "Python 3",
   "language": "python",
   "name": "python3"
  },
  "language_info": {
   "codemirror_mode": {
    "name": "ipython",
    "version": 2
   },
   "file_extension": ".py",
   "mimetype": "text/x-python",
   "name": "python",
   "nbconvert_exporter": "python",
   "pygments_lexer": "ipython2",
   "version": "2.7.6"
  }
 },
 "nbformat": 4,
 "nbformat_minor": 0
}